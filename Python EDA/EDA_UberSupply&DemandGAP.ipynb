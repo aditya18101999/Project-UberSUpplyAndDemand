{
  "nbformat": 4,
  "nbformat_minor": 0,
  "metadata": {
    "colab": {
      "private_outputs": true,
      "provenance": [],
      "collapsed_sections": [
        "mDgbUHAGgjLW",
        "EM7whBJCYoAo",
        "4Of9eVA-YrdM",
        "bamQiAODYuh1",
        "OH-pJp9IphqM",
        "PIIx-8_IphqN",
        "BZR9WyysphqO",
        "YJ55k-q6phqO",
        "U2RJ9gkRphqQ"
      ]
    },
    "kernelspec": {
      "name": "python3",
      "display_name": "Python 3"
    },
    "language_info": {
      "name": "python"
    }
  },
  "cells": [
    {
      "cell_type": "markdown",
      "source": [
        "# **Project Name**    - Uber Supply & Demand GAP - EDA\n",
        "\n"
      ],
      "metadata": {
        "id": "vncDsAP0Gaoa"
      }
    },
    {
      "cell_type": "markdown",
      "source": [
        "##### **Project Type**    - EDA\n",
        "##### **Contribution**    - Individual\n",
        "##### **Team Member 1 -** Aditya Anilkumar\n"
      ],
      "metadata": {
        "id": "beRrZCGUAJYm"
      }
    },
    {
      "cell_type": "markdown",
      "source": [
        "# **Project Summary**"
      ],
      "metadata": {
        "id": "FJNUwmbgGyua"
      }
    },
    {
      "cell_type": "markdown",
      "source": [
        "This project analyzes Uber ride request data to identify patterns and imbalances in supply and demand across different times of the day and pickup locations (City vs Airport).\n",
        "\n",
        "Using Python (Pandas, NumPy, Matplotlib, Seaborn), the goal is to uncover the root causes behind incomplete trip requests (due to cancellations or unavailability of cars) and recommend data-driven solutions."
      ],
      "metadata": {
        "id": "F6v_1wHtG2nS"
      }
    },
    {
      "cell_type": "markdown",
      "source": [
        "# **GitHub Link -**"
      ],
      "metadata": {
        "id": "w6K7xa23Elo4"
      }
    },
    {
      "cell_type": "markdown",
      "source": [
        "Provide your GitHub Link here.\n",
        "\n",
        "https://github.com/aditya18101999"
      ],
      "metadata": {
        "id": "h1o69JH3Eqqn"
      }
    },
    {
      "cell_type": "markdown",
      "source": [
        "# **Problem Statement**\n"
      ],
      "metadata": {
        "id": "yQaldy8SH6Dl"
      }
    },
    {
      "cell_type": "markdown",
      "source": [
        "The objective of this project is to analyze the supply-demand gap in Uber requests using the provided dataset. We aim to identify the core reasons for the unmet demand for Uber rides and pinpoint the specific times and locations where this gap is most significant. By understanding these patterns, we can propose data-driven recommendations to help Uber balance its supply and demand more effectively."
      ],
      "metadata": {
        "id": "DpeJGUA3kjGy"
      }
    },
    {
      "cell_type": "markdown",
      "source": [
        "#### **Define Your Business Objective?**"
      ],
      "metadata": {
        "id": "PH-0ReGfmX4f"
      }
    },
    {
      "cell_type": "markdown",
      "source": [
        "The primary goal of this Exploratory Data Analysis (EDA) is to:\n",
        "1.  Understand the distribution of Uber requests and their statuses (completed, cancelled, no cars available)\n",
        "2.  Identify peak demand hours and time slots.\n",
        "3.  Analyze the demand patterns and fulfillment rates across different pickup points (Airport vs. City).\n",
        "4.  Quantify and visualize the supply-demand gap.\n",
        "5.  Derive actionable insights and propose recommendations to mitigate the gap.\n",
        "\n",
        "This EDA leverages Python with the Pandas and NumPy libraries, complementing the prior analysis performed using Excel and SQL, as outlined in the project briefing."
      ],
      "metadata": {
        "id": "PhDvGCAqmjP1"
      }
    },
    {
      "cell_type": "markdown",
      "source": [
        "# **General Guidelines** : -  "
      ],
      "metadata": {
        "id": "mDgbUHAGgjLW"
      }
    },
    {
      "cell_type": "markdown",
      "source": [
        "1.   Well-structured, formatted, and commented code is required.\n",
        "2.   Exception Handling, Production Grade Code & Deployment Ready Code will be a plus. Those students will be awarded some additional credits.\n",
        "     \n",
        "     The additional credits will have advantages over other students during Star Student selection.\n",
        "       \n",
        "             [ Note: - Deployment Ready Code is defined as, the whole .ipynb notebook should be executable in one go\n",
        "                       without a single error logged. ]\n",
        "\n",
        "3.   Each and every logic should have proper comments.\n",
        "4. You may add as many number of charts you want. Make Sure for each and every chart the following format should be answered.\n",
        "        \n",
        "\n",
        "```\n",
        "# Chart visualization code\n",
        "```\n",
        "            \n",
        "\n",
        "*   Why did you pick the specific chart?\n",
        "*   What is/are the insight(s) found from the chart?\n",
        "* Will the gained insights help creating a positive business impact?\n",
        "Are there any insights that lead to negative growth? Justify with specific reason.\n",
        "\n",
        "5. You have to create at least 20 logical & meaningful charts having important insights.\n",
        "\n",
        "\n",
        "[ Hints : - Do the Vizualization in  a structured way while following \"UBM\" Rule.\n",
        "\n",
        "U - Univariate Analysis,\n",
        "\n",
        "B - Bivariate Analysis (Numerical - Categorical, Numerical - Numerical, Categorical - Categorical)\n",
        "\n",
        "M - Multivariate Analysis\n",
        " ]\n",
        "\n",
        "\n",
        "\n"
      ],
      "metadata": {
        "id": "ZrxVaUj-hHfC"
      }
    },
    {
      "cell_type": "markdown",
      "source": [
        "# ***Let's Begin !***"
      ],
      "metadata": {
        "id": "O_i_v8NEhb9l"
      }
    },
    {
      "cell_type": "markdown",
      "source": [
        "## ***1. Know Your Data***"
      ],
      "metadata": {
        "id": "HhfV-JJviCcP"
      }
    },
    {
      "cell_type": "markdown",
      "source": [
        "### Import Libraries"
      ],
      "metadata": {
        "id": "Y3lxredqlCYt"
      }
    },
    {
      "cell_type": "code",
      "source": [
        "# Import Libraries\n",
        "import pandas as pd\n",
        "import numpy as np\n",
        "import matplotlib.pyplot as plt\n",
        "import seaborn as sns"
      ],
      "metadata": {
        "id": "M8Vqi-pPk-HR"
      },
      "execution_count": null,
      "outputs": []
    },
    {
      "cell_type": "markdown",
      "source": [
        "### Dataset Loading"
      ],
      "metadata": {
        "id": "3RnN4peoiCZX"
      }
    },
    {
      "cell_type": "code",
      "source": [
        "# Load Dataset\n",
        "df = pd.read_csv('Cleaned_Uber Request Data.csv')"
      ],
      "metadata": {
        "id": "4CkvbW_SlZ_R"
      },
      "execution_count": null,
      "outputs": []
    },
    {
      "cell_type": "markdown",
      "source": [
        "### Dataset First View"
      ],
      "metadata": {
        "id": "x71ZqKXriCWQ"
      }
    },
    {
      "cell_type": "code",
      "source": [
        "# Dataset First Look\n",
        "df.head()"
      ],
      "metadata": {
        "id": "LWNFOSvLl09H"
      },
      "execution_count": null,
      "outputs": []
    },
    {
      "cell_type": "markdown",
      "source": [
        "## ***2. Understanding Your Variables***"
      ],
      "metadata": {
        "id": "nA9Y7ga8ng1Z"
      }
    },
    {
      "cell_type": "markdown",
      "source": [
        "### Dataset Rows & Columns count"
      ],
      "metadata": {
        "id": "7hBIi_osiCS2"
      }
    },
    {
      "cell_type": "code",
      "source": [
        "# Dataset Rows & Columns count\n",
        "df.shape"
      ],
      "metadata": {
        "id": "Kllu7SJgmLij"
      },
      "execution_count": null,
      "outputs": []
    },
    {
      "cell_type": "markdown",
      "source": [
        "### Dataset Information"
      ],
      "metadata": {
        "id": "JlHwYmJAmNHm"
      }
    },
    {
      "cell_type": "code",
      "source": [
        "# Dataset Info\n",
        "df.info()"
      ],
      "metadata": {
        "id": "e9hRXRi6meOf"
      },
      "execution_count": null,
      "outputs": []
    },
    {
      "cell_type": "markdown",
      "source": [
        "#### Duplicate Values"
      ],
      "metadata": {
        "id": "35m5QtbWiB9F"
      }
    },
    {
      "cell_type": "code",
      "source": [
        "# Dataset Duplicate Value Count\n",
        "df.duplicated().sum()"
      ],
      "metadata": {
        "id": "1sLdpKYkmox0"
      },
      "execution_count": null,
      "outputs": []
    },
    {
      "cell_type": "markdown",
      "source": [
        "#### Missing Values/Null Values"
      ],
      "metadata": {
        "id": "PoPl-ycgm1ru"
      }
    },
    {
      "cell_type": "code",
      "source": [
        "# Missing Values/Null Values Count\n",
        "df.isnull().sum()"
      ],
      "metadata": {
        "id": "GgHWkxvamxVg"
      },
      "execution_count": null,
      "outputs": []
    },
    {
      "cell_type": "code",
      "source": [
        "# Visualizing the missing values\n",
        "missing_percent = df.isnull().mean() * 100\n",
        "missing_percent = missing_percent[missing_percent > 0].sort_values(ascending=False)\n",
        "\n",
        "plt.figure(figsize=(10, 6))\n",
        "sns.barplot(x=missing_percent.values, y=missing_percent.index, palette=\"magma\")\n",
        "plt.title(\"Missing Data Percentage by Column\")\n",
        "plt.xlabel(\"Percentage (%)\")\n",
        "plt.ylabel(\"Column Name\")\n",
        "plt.show()"
      ],
      "metadata": {
        "id": "3q5wnI3om9sJ"
      },
      "execution_count": null,
      "outputs": []
    },
    {
      "cell_type": "markdown",
      "source": [
        "### Check Unique Values for each variable."
      ],
      "metadata": {
        "id": "u3PMJOP6ngxN"
      }
    },
    {
      "cell_type": "code",
      "source": [
        "# Dataset Columns\n",
        "df.columns"
      ],
      "metadata": {
        "id": "j7xfkqrt5Ag5"
      },
      "execution_count": null,
      "outputs": []
    },
    {
      "cell_type": "code",
      "source": [
        "# To get the count of occurrences for each unique value in 'Pickup point'\n",
        "print(\"\\n--- Count of Occurrences for each 'Pickup point' ---\")\n",
        "print(df['Pickup point'].value_counts())\n",
        "\n",
        "# You can apply the same method to other categorical columns:\n",
        "print(\"\\n--- Count of Occurrences for each 'Status' ---\")\n",
        "print(df['Status'].value_counts())\n",
        "\n",
        "print(\"\\n--- Count of Occurrences for each 'Time Slot' ---\")\n",
        "print(df['Time Slot'].value_counts())"
      ],
      "metadata": {
        "id": "zms12Yq5n-jE"
      },
      "execution_count": null,
      "outputs": []
    },
    {
      "cell_type": "code",
      "source": [
        "# Dataset Describe\n",
        "df.describe()"
      ],
      "metadata": {
        "id": "DnOaZdaE5Q5t"
      },
      "execution_count": null,
      "outputs": []
    },
    {
      "cell_type": "markdown",
      "source": [],
      "metadata": {
        "id": "h35VkUwMGzdU"
      }
    },
    {
      "cell_type": "markdown",
      "source": [
        "### What did you know about your dataset?"
      ],
      "metadata": {
        "id": "H0kj-8xxnORC"
      }
    },
    {
      "cell_type": "markdown",
      "source": [
        "What I Know About the Dataset  \n",
        "The dataset, Cleaned_Uber Request Data.csv, serves as the main data for our study of the Uber supply-demand gap. It includes individual Uber request records and provides insights into different aspects of each ride request.  \n",
        "\n",
        "One important observation from the initial data inspection is the presence of NA (Not Available) values in the Drop timestamp column. This is a key indicator, as it directly relates to requests that were either 'Cancelled' by the user or driver or where 'No Cars Available' were found to fulfill the request. This feature is essential for identifying and measuring the unmet demand for Uber rides. The data seems to capture requests from July 2016, based on the format and range of the Request timestamp entries.\n",
        "\n",
        "* The dataset includes columns like `Request id`, `Pickup point`, `Status`, `Request timestamp`, `Request Date`, `Request hour`, `Time Slot`, and `Drop timestamp`.\n",
        "* `Request timestamp` and `Drop timestamp` are currently string types and need to be converted to datetime objects for time-based analysis.\n",
        "* The `Drop timestamp` column has many missing values. This is expected, since trips that were 'Cancelled' or had 'No Cars Available' would not have a drop timestamp. This information is important for understanding unmet demand.\n",
        "* `Pickup point` and `Status` are important categorical variables for our analysis.\n",
        "* NO Duplicate Values to be handled."
      ],
      "metadata": {
        "id": "BWnC8GzhFnRu"
      }
    },
    {
      "cell_type": "markdown",
      "source": [
        "### Variables Description"
      ],
      "metadata": {
        "id": "PBTbrJXOngz2"
      }
    },
    {
      "cell_type": "markdown",
      "source": [
        "*Request id*: This column contains a unique numerical identifier for each Uber request recorded in the dataset.\n",
        "\n",
        "*Pickup point*: This variable specifies where the Uber request originates. The main categories are 'Airport' and 'City'.\n",
        "\n",
        "*Status*: This variable indicates the final outcome of the Uber request. It can have one of three values:\n",
        "\n",
        "* 'Trip Completed': The ride was successfully finished.\n",
        "\n",
        "* 'Cancelled': The ride request was cancelled, either by the rider or the driver.\n",
        "\n",
        "* 'No Cars Available': No Uber vehicle was available to fulfill the request.\n",
        "\n",
        "*Request timestamp*: This column records the exact date and time when the user initiated the Uber request.\n",
        "\n",
        "*Request Date*: This column provides the date, which is extracted from the Request timestamp.\n",
        "\n",
        "*Request hour*: This column shows the hour of the day (0-23) when the request was made, taken from the Request timestamp.\n",
        "\n",
        "*Time Slot*: This variable groups specific hours of the day into broader segments, such as 'Morning', 'Evening', and 'Night'. This helps analyze demand patterns across set periods.\n",
        "\n",
        "*Drop timestamp*: This column records the exact date and time when a completed Uber trip ended. It contains NA values for requests that were not fulfilled, such as those with 'Cancelled' or 'No Cars Available' statuses."
      ],
      "metadata": {
        "id": "aJV4KIxSnxay"
      }
    },
    {
      "cell_type": "markdown",
      "source": [
        "## 3. ***Data Wrangling***"
      ],
      "metadata": {
        "id": "dauF4eBmngu3"
      }
    },
    {
      "cell_type": "markdown",
      "source": [
        "### Data Wrangling Code"
      ],
      "metadata": {
        "id": "bKJF3rekwFvQ"
      }
    },
    {
      "cell_type": "code",
      "source": [
        "# Write your code to make your dataset analysis ready.\n",
        "\n",
        "# Convert 'Request timestamp' and 'Drop timestamp' to datetime objects\n",
        "# 'errors='coerce'' will turn invalid parsing into NaT (Not a Time)\n",
        "df['Request timestamp'] = pd.to_datetime(df['Request timestamp'], format='%d-%m-%Y %H:%M', errors='coerce')\n",
        "df['Drop timestamp'] = pd.to_datetime(df['Drop timestamp'], format='%d-%m-%Y %H:%M', errors='coerce')\n",
        "\n",
        "# Verify the data types after conversion\n",
        "print(\"\\n--- DataFrame Info after Datetime Conversion ---\")\n",
        "print(df.info())\n",
        "\n",
        "# Derive 'Trip Duration' in minutes for completed trips\n",
        "# For 'Cancelled' and 'No Cars Available' statuses, 'Trip Duration' will be NaN, which is appropriate\n",
        "df['Trip Duration'] = (df['Drop timestamp'] - df['Request timestamp']).dt.total_seconds() / 60\n",
        "\n",
        "# Display head with new 'Trip Duration' column\n",
        "print(\"\\n--- First 5 Rows with 'Trip Duration' ---\")\n",
        "print(df.head())"
      ],
      "metadata": {
        "id": "wk-9a2fpoLcV"
      },
      "execution_count": null,
      "outputs": []
    },
    {
      "cell_type": "markdown",
      "source": [
        "### What all manipulations have you done and insights you found?"
      ],
      "metadata": {
        "id": "MSa1f5Uengrz"
      }
    },
    {
      "cell_type": "markdown",
      "source": [
        "Following the initial data review, I made the necessary changes to the Cleaned_Uber Request Data.csv to prepare it for analysis such as Used pre-created Request hour and Time Slot columns to segment the day into logical time periods. This process revealed several key insights about the Uber supply-demand gap.\n",
        "\n",
        "Data Manipulations Performed:  \n",
        "The main change was converting the raw timestamp strings into a usable datetime format. This step is crucial for analyzing time series and calculating durations.\n",
        "\n",
        "Timestamp Conversion:  \n",
        "The Request timestamp and Drop timestamp columns, which were originally stored as strings, were converted into proper datetime objects using Pandas' to_datetime function. This change allows for accurate time-based calculations and filtering.\n",
        "\n",
        "For the Drop timestamp, the conversion handled errors by changing invalid parses (such as for canceled or unavailable trips) to NaT (Not a Time). This correctly indicates the lack of a drop time for unfulfilled requests.\n",
        "\n",
        "Feature Engineering (Trip Duration):  \n",
        "I calculated a new column, Trip Duration, for completed trips. This was done by subtracting the Request timestamp from the Drop timestamp and converting the result into minutes. This metric helps us understand the length of successful rides."
      ],
      "metadata": {
        "id": "LbyXE7I1olp8"
      }
    },
    {
      "cell_type": "markdown",
      "source": [
        "## ***4. Data Vizualization, Storytelling & Experimenting with charts : Understand the relationships between variables***"
      ],
      "metadata": {
        "id": "GF8Ens_Soomf"
      }
    },
    {
      "cell_type": "markdown",
      "source": [
        "#### Chart - 1 Status Distribution (Trip Completed / Cancelled / No Cars Available)"
      ],
      "metadata": {
        "id": "0wOQAZs5pc--"
      }
    },
    {
      "cell_type": "code",
      "source": [
        "# Chart - 1 visualization\n",
        "# Chart 1: Trip Status Distribution\n",
        "sns.countplot(data=df, x='Status', palette='Set2')\n",
        "plt.title(\"Trip Request Status Distribution\")\n",
        "plt.xlabel(\"Trip Status\")\n",
        "plt.ylabel(\"Number of Requests\")\n",
        "plt.grid(axis='y')\n",
        "plt.show()"
      ],
      "metadata": {
        "id": "7v_ESjsspbW7"
      },
      "execution_count": null,
      "outputs": []
    },
    {
      "cell_type": "markdown",
      "source": [
        "##### 1. Why did you pick the specific chart?"
      ],
      "metadata": {
        "id": "K5QZ13OEpz2H"
      }
    },
    {
      "cell_type": "markdown",
      "source": [
        "* I chose a countplot (bar chart) because it clearly shows how many ride requests fall under each trip status:\n",
        "\n",
        "  * Trip Completed\n",
        "\n",
        "  * Cancelled\n",
        "\n",
        "  * No Cars Available\n",
        "\n",
        "* It’s a simple and effective way to understand the overall performance of the Uber service and detect any imbalance or service issues."
      ],
      "metadata": {
        "id": "XESiWehPqBRc"
      }
    },
    {
      "cell_type": "markdown",
      "source": [
        "##### 2. What is/are the insight(s) found from the chart?"
      ],
      "metadata": {
        "id": "lQ7QKXXCp7Bj"
      }
    },
    {
      "cell_type": "markdown",
      "source": [
        "A large number of requests were not completed, either due to driver cancellations or no cars being available, especially during peak times.\n",
        "\n",
        "\"No Cars Available\" is slightly more frequent than cancellations, indicating a driver supply shortage issue.\n",
        "\n",
        "Completed trips form less than two-thirds of total requests."
      ],
      "metadata": {
        "id": "C_j1G7yiqdRP"
      }
    },
    {
      "cell_type": "markdown",
      "source": [
        "##### 3. Will the gained insights help creating a positive business impact?\n",
        "Are there any insights that lead to negative growth? Justify with specific reason."
      ],
      "metadata": {
        "id": "448CDAPjqfQr"
      }
    },
    {
      "cell_type": "markdown",
      "source": [
        "Yes, these insights are critical for operational planning:\n",
        "\n",
        "They highlight the unfulfilled demand, helping Uber optimize driver availability.\n",
        "\n",
        "The company can improve customer satisfaction and revenue by reducing cancellations and car unavailability.\n",
        "\n",
        "Negative impact insight:\n",
        "\n",
        "High \"No Cars Available\" requests suggest lost revenue and poor customer experience, leading to potential churn.\n",
        "\n",
        "Without corrective action, this could negatively affect Uber’s brand perception and market share during peak hours."
      ],
      "metadata": {
        "id": "3cspy4FjqxJW"
      }
    },
    {
      "cell_type": "markdown",
      "source": [
        "#### Chart - 2 Trip Status vs Time Slot"
      ],
      "metadata": {
        "id": "KSlN3yHqYklG"
      }
    },
    {
      "cell_type": "code",
      "source": [
        "# Chart - 2 visualization code\n",
        "# Chart 2: Trip Status vs Time Slot\n",
        "sns.countplot(data=df, x='Time Slot', hue='Status', palette='coolwarm')\n",
        "plt.title(\"Trip Status by Time Slot\")\n",
        "plt.xlabel(\"Time Slot\")\n",
        "plt.ylabel(\"Number of Requests\")\n",
        "plt.xticks(rotation=45)\n",
        "plt.grid(axis='y')\n",
        "plt.legend(title='Status')\n",
        "plt.tight_layout()\n",
        "plt.show()"
      ],
      "metadata": {
        "id": "R4YgtaqtYklH"
      },
      "execution_count": null,
      "outputs": []
    },
    {
      "cell_type": "markdown",
      "source": [
        "##### 1. Why did you pick the specific chart?"
      ],
      "metadata": {
        "id": "t6dVpIINYklI"
      }
    },
    {
      "cell_type": "markdown",
      "source": [
        "This clustered bar chart (countplot) lets us compare how trip statuses vary across different time slots (e.g., Morning, Evening, Night).\n",
        "I chose this chart because time-based supply-demand trends are critical for operational decisions in a real-time ride-sharing business like Uber."
      ],
      "metadata": {
        "id": "5aaW0BYyYklI"
      }
    },
    {
      "cell_type": "markdown",
      "source": [
        "##### 2. What is/are the insight(s) found from the chart?"
      ],
      "metadata": {
        "id": "ijmpgYnKYklI"
      }
    },
    {
      "cell_type": "markdown",
      "source": [
        "* Morning (5 AM – 10 AM): High number of \"No Cars Available\" – indicating a supply shortage.\n",
        "\n",
        "* Evening (5 PM – 10 PM): Large number of \"Cancelled\" trips, especially from City pickups.\n",
        "\n",
        "* Late Night: Fewer requests, but still some availability issues.\n",
        "\n",
        "Overall, the supply-demand gap is most prominent during Morning and Evening, the common office commute times."
      ],
      "metadata": {
        "id": "PSx9atu2YklI"
      }
    },
    {
      "cell_type": "markdown",
      "source": [
        "##### 3. Will the gained insights help creating a positive business impact?\n",
        "Are there any insights that lead to negative growth? Justify with specific reason."
      ],
      "metadata": {
        "id": "-JiQyfWJYklI"
      }
    },
    {
      "cell_type": "markdown",
      "source": [
        "Yes, these insights help Uber align driver availability with demand:\n",
        "\n",
        "Morning supply shortage: Suggests the need for more drivers or incentive schemes near the Airport.\n",
        "\n",
        "Evening cancellations: May indicate driver fatigue, shift changes, or traffic issues — Uber can work on driver retention, incentives, or staggered scheduling.\n",
        "\n",
        "Negative impact insight:\n",
        "\n",
        "If left unaddressed, the persistent peak-hour failures can lead to customer dissatisfaction, negative app reviews, and long-term revenue loss.\n",
        "\n"
      ],
      "metadata": {
        "id": "BcBbebzrYklV"
      }
    },
    {
      "cell_type": "markdown",
      "source": [
        "#### Chart - 3 Pickup Point vs Trip Status\n"
      ],
      "metadata": {
        "id": "EM7whBJCYoAo"
      }
    },
    {
      "cell_type": "code",
      "source": [
        "# Chart - 3 visualization code\n",
        "# Chart 3: Pickup Point vs Trip Status\n",
        "sns.countplot(data=df, x='Pickup point', hue='Status', palette='pastel')\n",
        "plt.title(\"Trip Status by Pickup Location\")\n",
        "plt.xlabel(\"Pickup Point\")\n",
        "plt.ylabel(\"Number of Requests\")\n",
        "plt.grid(axis='y')\n",
        "plt.legend(title='Status')\n",
        "plt.tight_layout()\n",
        "plt.show()"
      ],
      "metadata": {
        "id": "t6GMdE67YoAp"
      },
      "execution_count": null,
      "outputs": []
    },
    {
      "cell_type": "markdown",
      "source": [
        "##### 1. Why did you pick the specific chart?"
      ],
      "metadata": {
        "id": "fge-S5ZAYoAp"
      }
    },
    {
      "cell_type": "markdown",
      "source": [
        "This clustered bar chart was selected to show how trip outcomes vary based on the pickup location: City or Airport.\n",
        "It's important to visualize this dimension because Uber's demand-supply dynamics can differ significantly between urban centers and transport hubs."
      ],
      "metadata": {
        "id": "5dBItgRVYoAp"
      }
    },
    {
      "cell_type": "markdown",
      "source": [
        "##### 2. What is/are the insight(s) found from the chart?"
      ],
      "metadata": {
        "id": "85gYPyotYoAp"
      }
    },
    {
      "cell_type": "markdown",
      "source": [
        "* Airport: Has a higher number of \"No Cars Available\" — especially in the morning, indicating a lack of inbound drivers to meet demand.\n",
        "\n",
        "* City: Shows more cancellations, likely due to driver-side cancellations or traffic constraints during peak times.\n",
        "\n",
        "* Completed trips are reasonably distributed across both locations but are relatively lower during peak periods."
      ],
      "metadata": {
        "id": "4jstXR6OYoAp"
      }
    },
    {
      "cell_type": "markdown",
      "source": [
        "##### 3. Will the gained insights help creating a positive business impact?\n",
        "Are there any insights that lead to negative growth? Justify with specific reason."
      ],
      "metadata": {
        "id": "RoGjAbkUYoAp"
      }
    },
    {
      "cell_type": "markdown",
      "source": [
        "Absolutely. These findings allow Uber to fine-tune its geo-specific driver allocation:\n",
        "\n",
        "* Airport issues can be resolved by rebalancing fleet movement — encouraging drivers to remain near the Airport during expected high-demand windows.\n",
        "\n",
        "* City cancellations can be addressed through incentives, better driver training, or dynamic pricing during high-traffic zones or rush hours.\n",
        "\n",
        "Negative impact insight:\n",
        "\n",
        "* Unreliable Airport pickups — especially for time-sensitive customers — can significantly hurt brand trust and user retention.\n",
        "\n",
        "* City cancellations may result in higher app uninstalls or customer churn, especially if repeated.\n",
        "\n"
      ],
      "metadata": {
        "id": "zfJ8IqMcYoAp"
      }
    },
    {
      "cell_type": "markdown",
      "source": [
        "#### Chart - 4 Hourly trip status distribution"
      ],
      "metadata": {
        "id": "4Of9eVA-YrdM"
      }
    },
    {
      "cell_type": "code",
      "source": [
        "# Chart - 4 visualization code\n",
        "# Chart 4: Hourly trip status distribution\n",
        "hourly_status = df.groupby(['Request hour', 'Status']).size().unstack().fillna(0)\n",
        "\n",
        "# Plot stacked bar chart\n",
        "hourly_status.plot(kind='bar', stacked=True, figsize=(12, 6), colormap='Paired')\n",
        "plt.title(\"Hourly Trip Requests by Status\")\n",
        "plt.xlabel(\"Hour of the Day\")\n",
        "plt.ylabel(\"Number of Requests\")\n",
        "plt.xticks(rotation=0)\n",
        "plt.grid(axis='y')\n",
        "plt.legend(title='Status')\n",
        "plt.tight_layout()\n",
        "plt.show()\n"
      ],
      "metadata": {
        "id": "irlUoxc8YrdO"
      },
      "execution_count": null,
      "outputs": []
    },
    {
      "cell_type": "markdown",
      "source": [
        "##### 1. Why did you pick the specific chart?"
      ],
      "metadata": {
        "id": "iky9q4vBYrdO"
      }
    },
    {
      "cell_type": "markdown",
      "source": [
        "This stacked bar chart shows how trip outcomes change hour by hour throughout the day.\n",
        "I picked this visualization to identify hourly peaks in demand, and to detect when Uber fails to meet that demand — either due to no cars available or high cancellations."
      ],
      "metadata": {
        "id": "aJRCwT6DYrdO"
      }
    },
    {
      "cell_type": "markdown",
      "source": [
        "##### 2. What is/are the insight(s) found from the chart?"
      ],
      "metadata": {
        "id": "F6T5p64dYrdO"
      }
    },
    {
      "cell_type": "markdown",
      "source": [
        "* Peak demand at 9 AM and 6 PM — aligning with standard office commute times.\n",
        "\n",
        "* Around 9 AM, many requests go unfulfilled due to no cars available, especially for Airport pickups.\n",
        "\n",
        "* Around 6 PM, there is a spike in cancellations, mainly for City pickups heading to Airport.\n",
        "\n",
        "* Midday and late-night hours have fewer requests and fewer issues.\n",
        "\n"
      ],
      "metadata": {
        "id": "Xx8WAJvtYrdO"
      }
    },
    {
      "cell_type": "markdown",
      "source": [
        "##### 3. Will the gained insights help creating a positive business impact?\n",
        "Are there any insights that lead to negative growth? Justify with specific reason."
      ],
      "metadata": {
        "id": "y-Ehk30pYrdP"
      }
    },
    {
      "cell_type": "markdown",
      "source": [
        "Yes. This chart helps Uber schedule driver shifts and vehicle availability more effectively:\n",
        "\n",
        "Deploy more drivers around 9 AM (Airport) and 6 PM (City) to meet surge demand.\n",
        "\n",
        "Reduce cancellations by understanding and resolving driver-side constraints during these hours.\n",
        "\n",
        "Negative impact insight:\n",
        "\n",
        "Without intervention, missed morning and evening peak requests can lead to frustration, lost bookings, and long-term revenue leakage.\n",
        "\n",
        "A pattern of failure at key hours may also impact corporate clients and frequent travelers, who value reliability."
      ],
      "metadata": {
        "id": "jLNxxz7MYrdP"
      }
    },
    {
      "cell_type": "markdown",
      "source": [
        "#### Chart - 5 Normalized trip status distribution by Time Slot"
      ],
      "metadata": {
        "id": "bamQiAODYuh1"
      }
    },
    {
      "cell_type": "code",
      "source": [
        "# Chart - 5 visualization code\n",
        "# Chart 5: Normalized trip status distribution by Time Slot\n",
        "time_status_pct = df.groupby(['Time Slot', 'Status']).size().unstack().fillna(0)\n",
        "time_status_pct = time_status_pct.div(time_status_pct.sum(axis=1), axis=0) * 100\n",
        "\n",
        "# Plot\n",
        "time_status_pct.plot(kind='bar', stacked=True, figsize=(10, 6), colormap='tab10')\n",
        "plt.title(\"Percentage of Trip Statuses per Time Slot\")\n",
        "plt.xlabel(\"Time Slot\")\n",
        "plt.ylabel(\"Percentage of Requests\")\n",
        "plt.xticks(rotation=45)\n",
        "plt.legend(title='Status')\n",
        "plt.grid(axis='y')\n",
        "plt.tight_layout()\n",
        "plt.show()"
      ],
      "metadata": {
        "id": "TIJwrbroYuh3"
      },
      "execution_count": null,
      "outputs": []
    },
    {
      "cell_type": "markdown",
      "source": [
        "##### 1. Why did you pick the specific chart?"
      ],
      "metadata": {
        "id": "QHF8YVU7Yuh3"
      }
    },
    {
      "cell_type": "markdown",
      "source": [
        "I chose a normalized stacked bar chart to understand what percentage of requests in each time slot end up completed, cancelled, or unfulfilled.\n",
        "This view gives deeper insight than raw counts because it shows how efficient each time slot is in terms of successful trips, regardless of volume."
      ],
      "metadata": {
        "id": "dcxuIMRPYuh3"
      }
    },
    {
      "cell_type": "markdown",
      "source": [
        "##### 2. What is/are the insight(s) found from the chart?"
      ],
      "metadata": {
        "id": "GwzvFGzlYuh3"
      }
    },
    {
      "cell_type": "markdown",
      "source": [
        "Morning has the worst fulfillment rate – more than 40% of requests are unfulfilled (mostly due to no cars available).\n",
        "\n",
        "Evening has a higher share of cancellations, likely driver-driven.\n",
        "\n",
        "Afternoon and Night slots perform better, with a higher % of completed trips.\n",
        "\n",
        "The efficiency of Uber operations is significantly lower during peak times."
      ],
      "metadata": {
        "id": "uyqkiB8YYuh3"
      }
    },
    {
      "cell_type": "markdown",
      "source": [
        "##### 3. Will the gained insights help creating a positive business impact?\n",
        "Are there any insights that lead to negative growth? Justify with specific reason."
      ],
      "metadata": {
        "id": "qYpmQ266Yuh3"
      }
    },
    {
      "cell_type": "markdown",
      "source": [
        "Yes — this chart directly shows how efficiently Uber meets demand across different periods. It’s useful for:\n",
        "\n",
        "* Prioritizing resource allocation (e.g., more drivers in the Morning).\n",
        "\n",
        "* Reducing customer dissatisfaction in high-failure time slots.\n",
        "\n",
        "* Benchmarking operational performance against ideal targets.\n",
        "\n",
        "Negative impact insight:\n",
        "\n",
        "* If 40–50% of peak-time users can't get a ride, that’s lost revenue and brand damage.\n",
        "\n",
        "* Without a fix, this leads to negative reviews, low retention, and increased churn, especially among high-frequency users."
      ],
      "metadata": {
        "id": "_WtzZ_hCYuh4"
      }
    },
    {
      "cell_type": "markdown",
      "source": [
        "#### Chart - 6 Heatmap of Incomplete Trips by Hour & Pickup Point(Heatmap of Ument Demnad)"
      ],
      "metadata": {
        "id": "OH-pJp9IphqM"
      }
    },
    {
      "cell_type": "code",
      "source": [
        "# Chart - 6 visualization code\n",
        "# Filter for incomplete trips only\n",
        "incomplete = df[df['Status'].isin(['Cancelled', 'No Cars Available'])]\n",
        "\n",
        "# Group by hour and pickup point\n",
        "heatmap_data = incomplete.groupby(['Request hour', 'Pickup point']).size().unstack().fillna(0)\n",
        "\n",
        "# Plot heatmap\n",
        "plt.figure(figsize=(10,6))\n",
        "sns.heatmap(heatmap_data, annot=True, fmt='.0f', cmap='Reds', linewidths=0.5)\n",
        "plt.title(\"Heatmap of Incomplete Trips (Cancellations + No Cars) by Hour & Pickup Point\")\n",
        "plt.xlabel(\"Pickup Point\")\n",
        "plt.ylabel(\"Hour of Day\")\n",
        "plt.tight_layout()\n",
        "plt.show()"
      ],
      "metadata": {
        "id": "kuRf4wtuphqN"
      },
      "execution_count": null,
      "outputs": []
    },
    {
      "cell_type": "markdown",
      "source": [
        "##### 1. Why did you pick the specific chart?"
      ],
      "metadata": {
        "id": "bbFf2-_FphqN"
      }
    },
    {
      "cell_type": "markdown",
      "source": [
        "I chose a heatmap to highlight the intersection between time (hour) and location (pickup point) where trip failures are most frequent.\n",
        "This format allows us to visually identify hotspots of demand failure where operational fixes are urgently needed."
      ],
      "metadata": {
        "id": "loh7H2nzphqN"
      }
    },
    {
      "cell_type": "markdown",
      "source": [
        "##### 2. What is/are the insight(s) found from the chart?"
      ],
      "metadata": {
        "id": "_ouA3fa0phqN"
      }
    },
    {
      "cell_type": "markdown",
      "source": [
        "* Airport between 5 AM–10 AM shows the highest failure rate, dominated by \"No Cars Available\" — a clear morning supply gap.\n",
        "\n",
        "* City between 5 PM–9 PM has another failure cluster, mainly due to cancellations, hinting at driver-side issues during evening hours.\n",
        "\n",
        "* Outside peak hours, both locations show minimal failure volume."
      ],
      "metadata": {
        "id": "VECbqPI7phqN"
      }
    },
    {
      "cell_type": "markdown",
      "source": [
        "##### 3. Will the gained insights help creating a positive business impact?\n",
        "Are there any insights that lead to negative growth? Justify with specific reason."
      ],
      "metadata": {
        "id": "Seke61FWphqN"
      }
    },
    {
      "cell_type": "markdown",
      "source": [
        "Definitely. This heatmap helps Uber make hyper-targeted operational decisions:\n",
        "\n",
        "* Focus morning resources at the Airport and incentivize drivers to queue there.\n",
        "\n",
        "* Address evening City cancellations through driver incentives, shorter shift windows, or penalty optimizations.\n",
        "\n",
        "Negative impact insight:\n",
        "\n",
        "* Without fixing these hotspots, Uber will continue to lose high-value, peak-time customers who often ride repeatedly.\n",
        "\n",
        "* It can also trigger surge pricing perception issues if gaps persist without visible improvement.\n",
        "\n"
      ],
      "metadata": {
        "id": "DW4_bGpfphqN"
      }
    },
    {
      "cell_type": "markdown",
      "source": [
        "#### Chart - 7 Heatmap of Requests by Day & Time Slot"
      ],
      "metadata": {
        "id": "PIIx-8_IphqN"
      }
    },
    {
      "cell_type": "code",
      "source": [
        "# Chart - 7 visualization code\n",
        "# Add derived feature: Day of week\n",
        "df['Request Day'] = df['Request timestamp'].dt.day_name()\n",
        "\n",
        "# Pivot: Time Slot vs Day\n",
        "request_volume = df.groupby(['Request Day', 'Time Slot']).size().unstack().fillna(0)\n",
        "\n",
        "# Sort days in order\n",
        "ordered_days = ['Monday', 'Tuesday', 'Wednesday', 'Thursday', 'Friday', 'Saturday', 'Sunday']\n",
        "request_volume = request_volume.reindex(ordered_days)\n",
        "\n",
        "# Plot heatmap\n",
        "plt.figure(figsize=(10,6))\n",
        "sns.heatmap(request_volume, annot=True, fmt='.0f', cmap='Blues', linewidths=0.5)\n",
        "plt.title(\"Heatmap of Total Trip Requests by Day and Time Slot\")\n",
        "plt.xlabel(\"Time Slot\")\n",
        "plt.ylabel(\"Day of the Week\")\n",
        "plt.tight_layout()\n",
        "plt.show()"
      ],
      "metadata": {
        "id": "lqAIGUfyphqO"
      },
      "execution_count": null,
      "outputs": []
    },
    {
      "cell_type": "markdown",
      "source": [
        "##### 1. Why did you pick the specific chart?"
      ],
      "metadata": {
        "id": "t27r6nlMphqO"
      }
    },
    {
      "cell_type": "markdown",
      "source": [
        "I chose this heatmap to understand how trip requests fluctuate across days and time slots.\n",
        "It provides a macro-level view of temporal demand, helping identify weekly peaks and resource strain over the week — a key driver of availability issues."
      ],
      "metadata": {
        "id": "iv6ro40sphqO"
      }
    },
    {
      "cell_type": "markdown",
      "source": [
        "##### 2. What is/are the insight(s) found from the chart?"
      ],
      "metadata": {
        "id": "r2jJGEOYphqO"
      }
    },
    {
      "cell_type": "markdown",
      "source": [
        "* Weekdays (Mon–Fri) see consistently high demand during Morning and Evening slots.\n",
        "\n",
        "* Fridays have the highest total request volumes, especially in the Evening.\n",
        "\n",
        "* Weekends (Sat–Sun) show lower demand overall but still experience Morning gaps.\n",
        "\n"
      ],
      "metadata": {
        "id": "Po6ZPi4hphqO"
      }
    },
    {
      "cell_type": "markdown",
      "source": [
        "##### 3. Will the gained insights help creating a positive business impact?\n",
        "Are there any insights that lead to negative growth? Justify with specific reason."
      ],
      "metadata": {
        "id": "b0JNsNcRphqO"
      }
    },
    {
      "cell_type": "markdown",
      "source": [
        "Yes. These findings enable day-wise fleet planning and scheduling:\n",
        "\n",
        "* Uber can increase fleet capacity or driver shifts on Fridays, particularly during Evening.\n",
        "\n",
        "* On weekends, Uber might reduce operational costs by scaling down drivers during low-traffic hours.\n",
        "\n",
        "* Heatmaps like this support smart workforce management, cost optimization, and improved customer experience during peak slots.\n",
        "\n",
        "Negative impact insight:\n",
        "\n",
        "* If peak-day demand isn’t met (especially on Fridays), Uber risks losing high-revenue rides — especially from repeat customers or professionals relying on the platform."
      ],
      "metadata": {
        "id": "xvSq8iUTphqO"
      }
    },
    {
      "cell_type": "markdown",
      "source": [
        "#### Chart - 8 Daily Request Volume Over Time"
      ],
      "metadata": {
        "id": "BZR9WyysphqO"
      }
    },
    {
      "cell_type": "code",
      "source": [
        "# Chart - 8 visualization code\n",
        "# Convert to date only\n",
        "df['Request Date'] = pd.to_datetime(df['Request Date'], format='%d-%m-%Y')\n",
        "\n",
        "# Group by date to get request volume per day\n",
        "daily_requests = df.groupby('Request Date').size()\n",
        "\n",
        "# Plot line chart\n",
        "plt.figure(figsize=(12,6))\n",
        "sns.lineplot(x=daily_requests.index, y=daily_requests.values, marker='o')\n",
        "plt.title(\"Trend of Daily Trip Requests Over Time\")\n",
        "plt.xlabel(\"Date\")\n",
        "plt.ylabel(\"Number of Requests\")\n",
        "plt.xticks(rotation=45)\n",
        "plt.grid(True)\n",
        "plt.tight_layout()\n",
        "plt.show()"
      ],
      "metadata": {
        "id": "TdPTWpAVphqO"
      },
      "execution_count": null,
      "outputs": []
    },
    {
      "cell_type": "markdown",
      "source": [
        "##### 1. Why did you pick the specific chart?"
      ],
      "metadata": {
        "id": "jj7wYXLtphqO"
      }
    },
    {
      "cell_type": "markdown",
      "source": [
        "I chose a line plot to visualize the trend of trip requests over time.\n",
        "It helps assess whether demand is increasing, stable, or inconsistent, and identify spikes or drops in usage patterns — which are critical for supply planning."
      ],
      "metadata": {
        "id": "Ob8u6rCTphqO"
      }
    },
    {
      "cell_type": "markdown",
      "source": [
        "##### 2. What is/are the insight(s) found from the chart?"
      ],
      "metadata": {
        "id": "eZrbJ2SmphqO"
      }
    },
    {
      "cell_type": "markdown",
      "source": [
        "* Demand shows consistent peaks and dips — potentially related to weekday–weekend cycles.\n",
        "\n",
        "* A few days show notably lower activity, possibly due to service outages, driver strikes, or external events (weather, etc.).\n",
        "\n",
        "* Overall, demand is relatively stable, with some short bursts of higher usage.\n",
        "\n"
      ],
      "metadata": {
        "id": "mZtgC_hjphqO"
      }
    },
    {
      "cell_type": "markdown",
      "source": [
        "##### 3. Will the gained insights help creating a positive business impact?\n",
        "Are there any insights that lead to negative growth? Justify with specific reason."
      ],
      "metadata": {
        "id": "rFu4xreNphqO"
      }
    },
    {
      "cell_type": "markdown",
      "source": [
        "Yes — this analysis helps Uber plan for:\n",
        "\n",
        "* Recurring demand patterns to improve driver scheduling and availability.\n",
        "\n",
        "* Anomaly detection — understanding the causes behind dips or surges helps Uber prepare better in the future.\n",
        "\n",
        "* Forecasting — if extended, this could feed into a model for predictive demand allocation.\n",
        "\n",
        "Negative impact insight:\n",
        "\n",
        "* Unexpected dips could indicate technical issues or operational inefficiencies, which, if unnoticed, might cause long-term service unreliability."
      ],
      "metadata": {
        "id": "ey_0qi68phqO"
      }
    },
    {
      "cell_type": "markdown",
      "source": [
        "#### Chart - 9 Correlation Heatmap (Multivariate Analysis)"
      ],
      "metadata": {
        "id": "YJ55k-q6phqO"
      }
    },
    {
      "cell_type": "code",
      "source": [
        "# Chart - 9 visualization code\n",
        "# For correlation, we need numeric values\n",
        "# Convert status to numeric encoding (optional, for analysis only)\n",
        "df_corr = df.copy()\n",
        "df_corr['Status_Encoded'] = df_corr['Status'].map({\n",
        "    'Trip Completed': 1,\n",
        "    'Cancelled': 0,\n",
        "    'No Cars Available': -1\n",
        "})\n",
        "\n",
        "# Select numeric features\n",
        "numeric_cols = ['Request hour', 'Status_Encoded']\n",
        "corr_matrix = df_corr[numeric_cols].corr()\n",
        "\n",
        "# Plot heatmap\n",
        "plt.figure(figsize=(6, 4))\n",
        "sns.heatmap(corr_matrix, annot=True, cmap='coolwarm', linewidths=0.5)\n",
        "plt.title(\"Correlation Heatmap: Request Hour vs Trip Status\")\n",
        "plt.tight_layout()\n",
        "plt.show()"
      ],
      "metadata": {
        "id": "B2aS4O1ophqO"
      },
      "execution_count": null,
      "outputs": []
    },
    {
      "cell_type": "markdown",
      "source": [
        "##### 1. Why did you pick the specific chart?"
      ],
      "metadata": {
        "id": "gCFgpxoyphqP"
      }
    },
    {
      "cell_type": "markdown",
      "source": [
        "I used a correlation heatmap to explore relationships between numerical variables, especially between Request hour and trip outcomes.\n",
        "This helps identify if certain hours negatively correlate with successful trip completion.\n"
      ],
      "metadata": {
        "id": "TVxDimi2phqP"
      }
    },
    {
      "cell_type": "markdown",
      "source": [
        "##### 2. What is/are the insight(s) found from the chart?"
      ],
      "metadata": {
        "id": "OVtJsKN_phqQ"
      }
    },
    {
      "cell_type": "markdown",
      "source": [
        "A negative correlation is visible between Request hour and trip status, suggesting higher failure rates during peak hours.\n",
        "\n",
        "This confirms that supply-demand imbalance intensifies as the day progresses, especially in the morning and evening.\n",
        "\n"
      ],
      "metadata": {
        "id": "ngGi97qjphqQ"
      }
    },
    {
      "cell_type": "markdown",
      "source": [
        "##### 3. Will the gained insights help creating a positive business impact?\n",
        "Are there any insights that lead to negative growth? Justify with specific reason."
      ],
      "metadata": {
        "id": "lssrdh5qphqQ"
      }
    },
    {
      "cell_type": "markdown",
      "source": [
        "Yes — understanding such correlations helps Uber forecast risk periods for trip failures, leading to smarter scheduling and routing decisions.\n",
        "\n",
        "It also helps prioritize driver availability during hours statistically linked with demand failure.\n",
        "\n"
      ],
      "metadata": {
        "id": "tBpY5ekJphqQ"
      }
    },
    {
      "cell_type": "markdown",
      "source": [
        "#### Chart - 10 Pairplot of Numeric Features"
      ],
      "metadata": {
        "id": "U2RJ9gkRphqQ"
      }
    },
    {
      "cell_type": "code",
      "source": [
        "# Chart - 10 visualization code\n",
        "\n",
        "\n",
        "# Use encoded status and hour\n",
        "sns.pairplot(df_corr[['Request hour', 'Status_Encoded']], diag_kind='kde', kind='scatter')\n",
        "plt.suptitle(\"Pairplot: Request Hour vs Trip Status\", y=1.02)\n",
        "plt.show()"
      ],
      "metadata": {
        "id": "GM7a4YP4phqQ"
      },
      "execution_count": null,
      "outputs": []
    },
    {
      "cell_type": "markdown",
      "source": [
        "##### 1. Why did you pick the specific chart?"
      ],
      "metadata": {
        "id": "1M8mcRywphqQ"
      }
    },
    {
      "cell_type": "markdown",
      "source": [
        "I chose a pairplot to visually examine how the numeric variables relate to each other, especially to identify clusters or trends across Request hour and trip success/failure."
      ],
      "metadata": {
        "id": "8agQvks0phqQ"
      }
    },
    {
      "cell_type": "markdown",
      "source": [
        "##### 2. What is/are the insight(s) found from the chart?"
      ],
      "metadata": {
        "id": "tgIPom80phqQ"
      }
    },
    {
      "cell_type": "markdown",
      "source": [
        "Most failed trips (status -1 or 0) are clustered around early mornings and late evenings.\n",
        "\n",
        "Completed trips (status = 1) are more spread out, often during mid-day and late night.\n",
        "\n",
        "Suggests that trip success is time-sensitive, confirming prior analysis.\n",
        "\n"
      ],
      "metadata": {
        "id": "Qp13pnNzphqQ"
      }
    },
    {
      "cell_type": "markdown",
      "source": [
        "##### 3. Will the gained insights help creating a positive business impact?\n",
        "Are there any insights that lead to negative growth? Justify with specific reason."
      ],
      "metadata": {
        "id": "JMzcOPDDphqR"
      }
    },
    {
      "cell_type": "markdown",
      "source": [
        "Yes — the pairplot helps identify critical time windows where the system underperforms.\n",
        "Uber can use this to:\n",
        "\n",
        "Prioritize interventions in those time bands.\n",
        "\n",
        "Deploy predictive alerts or surge readiness tools based on cluster detection.\n",
        "\n"
      ],
      "metadata": {
        "id": "R4Ka1PC2phqR"
      }
    },
    {
      "cell_type": "markdown",
      "source": [
        "## **5. Solution to Business Objective**"
      ],
      "metadata": {
        "id": "JcMwzZxoAimU"
      }
    },
    {
      "cell_type": "markdown",
      "source": [
        "#### What do you suggest the client to achieve Business Objective ?\n",
        "Explain Briefly."
      ],
      "metadata": {
        "id": "8G2x9gOozGDZ"
      }
    },
    {
      "cell_type": "markdown",
      "source": [
        "The project identified key factors contributing to Uber's supply-demand gap through structured exploratory data analysis using Python. The following solutions were developed:\n",
        "\n",
        "Time-Based Demand Optimization:\n",
        "\n",
        "* Morning (5–10 AM) and Evening (5–10 PM) were identified as high-demand times with many unfulfilled requests.\n",
        "\n",
        "* It was recommended to realign driver shifts and use predictive scheduling models to increase availability during these peak periods.\n",
        "\n",
        "Location-Based Resource Allocation:\n",
        "\n",
        "* It was found that airport pickups often face “No Cars Available” during morning hours.\n",
        "\n",
        "* Geofencing incentives were suggested to keep more drivers near the airport and ensure better coverage.\n",
        "\n",
        "Driver Behavior Management:\n",
        "\n",
        "* Higher cancellation rates were noted for city pickups during evening hours.\n",
        "\n",
        "* It was proposed to introduce cancellation penalties, improve driver engagement programs, or suggest traffic-aware routing to address this issue.\n",
        "\n",
        "Operational Forecasting:\n",
        "\n",
        "* Trend and heatmap analyses revealed daily and weekly request patterns, helping Uber forecast resource demand more effectively.\n",
        "\n",
        "In short, these insights give Uber a way to better match rider demand with available drivers. This will improve service efficiency, boost customer satisfaction, and reduce lost revenue."
      ],
      "metadata": {
        "id": "pASKb0qOza21"
      }
    },
    {
      "cell_type": "markdown",
      "source": [
        "# **Conclusion**"
      ],
      "metadata": {
        "id": "gCX9965dhzqZ"
      }
    },
    {
      "cell_type": "markdown",
      "source": [
        "This EDA project revealed key imbalances between Uber's rider demand and driver supply. We looked at the time, location, and behavior in the data and found:\n",
        "\n",
        "* Peak-hour mismatches, especially at the Airport in the morning and in the City during evenings.\n",
        "\n",
        "* High failure rates, such as cancellations and unavailability, that result in lost revenue and a poor user experience.\n",
        "\n",
        "* Patterns throughout the week and day that Uber can use to improve operations.\n",
        "\n",
        "These insights can help Uber implement data-driven solutions like:\n",
        "\n",
        "* Dynamic driver allocation,\n",
        "\n",
        "* Adjustments in surge pricing,\n",
        "\n",
        "* Targeted incentives,\n",
        "\n",
        "* Improved scheduling models.\n",
        "\n",
        "Overall, the project shows how making decisions based on data can address real-world business issues and enhance platform performance on a large scale."
      ],
      "metadata": {
        "id": "Fjb1IsQkh3yE"
      }
    }
  ]
}